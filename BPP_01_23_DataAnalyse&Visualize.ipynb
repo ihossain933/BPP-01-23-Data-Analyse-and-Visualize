{
  "nbformat": 4,
  "nbformat_minor": 0,
  "metadata": {
    "colab": {
      "provenance": []
    },
    "kernelspec": {
      "name": "python3",
      "display_name": "Python 3"
    },
    "language_info": {
      "name": "python"
    }
  },
  "cells": [
    {
      "cell_type": "code",
      "execution_count": null,
      "metadata": {
        "id": "kKEiiex1VrkM"
      },
      "outputs": [],
      "source": [
        "import pandas as pd\n",
        "import matplotlib as plt\n",
        "import numpy as np\n"
      ]
    },
    {
      "cell_type": "code",
      "source": [
        "!wget https://raw.githubusercontent.com/Abdullahfoysal/pp11-Project-AnalyzeAndVisualize/refs/heads/main/student_data.csv"
      ],
      "metadata": {
        "colab": {
          "base_uri": "https://localhost:8080/"
        },
        "id": "EGBlemR2Xi2l",
        "outputId": "6151bb76-b2eb-4bbc-8475-6c2ae4bdcc82"
      },
      "execution_count": 1,
      "outputs": [
        {
          "output_type": "stream",
          "name": "stdout",
          "text": [
            "--2024-12-20 14:00:01--  https://raw.githubusercontent.com/Abdullahfoysal/pp11-Project-AnalyzeAndVisualize/refs/heads/main/student_data.csv\n",
            "Resolving raw.githubusercontent.com (raw.githubusercontent.com)... 185.199.108.133, 185.199.109.133, 185.199.110.133, ...\n",
            "Connecting to raw.githubusercontent.com (raw.githubusercontent.com)|185.199.108.133|:443... connected.\n",
            "HTTP request sent, awaiting response... 200 OK\n",
            "Length: 133023 (130K) [text/plain]\n",
            "Saving to: ‘student_data.csv’\n",
            "\n",
            "student_data.csv    100%[===================>] 129.91K  --.-KB/s    in 0.003s  \n",
            "\n",
            "2024-12-20 14:00:02 (42.5 MB/s) - ‘student_data.csv’ saved [133023/133023]\n",
            "\n"
          ]
        }
      ]
    }
  ]
}